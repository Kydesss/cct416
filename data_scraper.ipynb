{
 "cells": [
  {
   "cell_type": "code",
   "execution_count": null,
   "metadata": {},
   "outputs": [],
   "source": [
    "import praw\n",
    "import pandas as pd\n",
    "\n",
    "# Initialize PRAW with your Reddit API credentials\n",
    "reddit = praw.Reddit(\n",
    "    client_id=\"w6Jr0IG2zDJtWB2qBBuJUA\",\n",
    "    client_secret=\"MmyRwAMJPX-9YNNUwjhKbN-VPJD4Iw\",\n",
    "    user_agent=\"MyRedditScraper by /u/Mysterious-Round-810\",\n",
    ")\n",
    "\n",
    "def scrape_subreddit(subreddit_name, num_posts):\n",
    "    # Fetch the specified subreddit\n",
    "    subreddit = reddit.subreddit(subreddit_name)\n",
    "\n",
    "    # Fetch the top 'num_posts' posts from the subreddit\n",
    "    top_posts = subreddit.top(limit=num_posts)\n",
    "\n",
    "    # List to store scraped data\n",
    "    data = []\n",
    "\n",
    "    # Iterate through the top posts and store their titles, scores, number of comments, and content\n",
    "    for post in top_posts:\n",
    "        post_data = {\n",
    "            \"Title\": post.title,\n",
    "            \"Score\": post.score,\n",
    "            \"Content\": post.selftext if post.selftext else None,\n",
    "            \"Number of Comments\": post.num_comments,\n",
    "            \"Post URL\": post.url,\n",
    "            \"Full URL\": f\"https://www.reddit.com{post.permalink}\",\n",
    "        }\n",
    "        data.append(post_data)\n",
    "\n",
    "    return data"
   ]
  }
 ],
 "metadata": {
  "language_info": {
   "name": "python"
  }
 },
 "nbformat": 4,
 "nbformat_minor": 2
}
