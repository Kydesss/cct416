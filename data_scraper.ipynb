{
 "cells": [
  {
   "cell_type": "code",
   "execution_count": 10,
   "metadata": {},
   "outputs": [
    {
     "name": "stdout",
     "output_type": "stream",
     "text": [
      "                                               Title  Score Content  \\\n",
      "0             Somewhere in Alsace, me, acrylic, 2022  42079    None   \n",
      "1        Midsummer, Djamila Knopf, Digital art, 2019  42066    None   \n",
      "2  Boy Behind The Mask, Sarah Weaver, acrylic on ...  42043    None   \n",
      "3                  The Catch, me, oil on panel, 2021  42012    None   \n",
      "4               Alchemy, voxel animation, 540x540 px  42007    None   \n",
      "5                Doorway Protocol, Me, Digital, 2020  42001    None   \n",
      "6                       Brave Warrior, Digital, 2017  41996    None   \n",
      "7                Stained Glass Sidewalk (2017) Chalk  41954    None   \n",
      "8                 Honey Bear, me, oil on panel, 2020  41935    None   \n",
      "9                     Double Shot, Me, Digital, 2021  41926    None   \n",
      "\n",
      "   Number of Comments                                           Post URL  \\\n",
      "0                 632                https://i.redd.it/rwqyfwka0ny81.jpg   \n",
      "1                 305                https://i.redd.it/9eehb9wloo731.jpg   \n",
      "2                 502                 https://i.redd.it/z8ex9psyz22z.jpg   \n",
      "3                 429                https://i.redd.it/98tzz1l7kyc71.jpg   \n",
      "4                 450                   https://i.imgur.com/1ADPuGm.gifv   \n",
      "5                 477                https://i.redd.it/c4b57rnajma51.jpg   \n",
      "6                 784  https://cdnb.artstation.com/p/assets/images/im...   \n",
      "7                 264                 https://i.redd.it/uyxiy1rapa2z.jpg   \n",
      "8                 347                https://i.redd.it/6i2z577711n41.jpg   \n",
      "9                 473                https://i.redd.it/6e7m4zdkosa61.jpg   \n",
      "\n",
      "                                            Full URL  \n",
      "0  https://www.reddit.com/r/Art/comments/umgwth/s...  \n",
      "1  https://www.reddit.com/r/Art/comments/c7ru0m/m...  \n",
      "2  https://www.reddit.com/r/Art/comments/6foek9/b...  \n",
      "3  https://www.reddit.com/r/Art/comments/oq1lw4/t...  \n",
      "4  https://www.reddit.com/r/Art/comments/7lukou/a...  \n",
      "5  https://www.reddit.com/r/Art/comments/hqezd3/d...  \n",
      "6  https://www.reddit.com/r/Art/comments/7km66y/b...  \n",
      "7  https://www.reddit.com/r/Art/comments/6fwp97/s...  \n",
      "8  https://www.reddit.com/r/Art/comments/fjk0v1/h...  \n",
      "9  https://www.reddit.com/r/Art/comments/kvfzfe/d...  \n"
     ]
    }
   ],
   "source": [
    "import praw\n",
    "import pandas as pd\n",
    "\n",
    "# Initialize PRAW with your Reddit API credentials\n",
    "reddit = praw.Reddit(\n",
    "    client_id=\"w6Jr0IG2zDJtWB2qBBuJUA\",\n",
    "    client_secret=\"MmyRwAMJPX-9YNNUwjhKbN-VPJD4Iw\",\n",
    "    user_agent=\"MyRedditScraper by /u/Mysterious-Round-810\",\n",
    ")\n",
    "\n",
    "def scrape_subreddit(subreddit_name, num_posts):\n",
    "    data = []\n",
    "    # Fetch the specified subreddit\n",
    "    subreddit = reddit.subreddit(subreddit_name)\n",
    "\n",
    "    # Fetch the top 'num_posts' posts from the subreddit\n",
    "    top_posts = subreddit.top(limit=num_posts)\n",
    "\n",
    "    # Iterate through the top posts and store their titles, scores, number of comments, and content\n",
    "    for post in top_posts:\n",
    "        post_data = {\n",
    "            \"Title\": post.title,\n",
    "            \"Score\": post.score,\n",
    "            \"Content\": post.selftext if post.selftext else None,\n",
    "            \"Number of Comments\": post.num_comments,\n",
    "            \"Post URL\": post.url,\n",
    "            \"Full URL\": f\"https://www.reddit.com{post.permalink}\",\n",
    "        }\n",
    "        data.append(post_data)\n",
    "\n",
    "    return data\n",
    "\n",
    "list_of_subreddits = [\"Art\", \"StableDiffusion\", \"ArtificialInteligence\", \"AiArt\", \"graphic_design\", \"DigitalArt\", \"ArtHistory\", \"drawing\", \"learnart\", \"Illustration\"]\n",
    "\n",
    "# Scrape the subreddits\n",
    "data = []\n",
    "num_posts = 100\n",
    "scraped_data = []\n",
    "\n",
    "for i in list_of_subreddits:\n",
    "    scraped_data = scrape_subreddit(i, num_posts)\n",
    "    data.extend(scraped_data)\n",
    "\n",
    "df = pd.DataFrame(data)\n",
    "\n",
    "# Print first 10 observations\n",
    "print(df.head(10))"
   ]
  },
  {
   "cell_type": "code",
   "execution_count": 11,
   "metadata": {},
   "outputs": [
    {
     "name": "stdout",
     "output_type": "stream",
     "text": [
      "1000\n"
     ]
    }
   ],
   "source": [
    "print(len(df))"
   ]
  }
 ],
 "metadata": {
  "kernelspec": {
   "display_name": "Python 3",
   "language": "python",
   "name": "python3"
  },
  "language_info": {
   "codemirror_mode": {
    "name": "ipython",
    "version": 3
   },
   "file_extension": ".py",
   "mimetype": "text/x-python",
   "name": "python",
   "nbconvert_exporter": "python",
   "pygments_lexer": "ipython3",
   "version": "3.11.8"
  }
 },
 "nbformat": 4,
 "nbformat_minor": 2
}
